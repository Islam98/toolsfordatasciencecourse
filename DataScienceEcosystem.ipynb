{
 "cells": [
  {
   "cell_type": "markdown",
   "id": "d653ce4c-22d7-460c-b125-1bf659742e0c",
   "metadata": {},
   "source": [
    "# Data Science Tools and Ecosystem"
   ]
  },
  {
   "cell_type": "markdown",
   "id": "f1d0d2fd-7684-4863-9482-0f086be01437",
   "metadata": {},
   "source": [
    "In this notebook, Data Science Tools and Ecosystem are summarized."
   ]
  },
  {
   "cell_type": "markdown",
   "id": "f07de3ce-237b-4db9-a4b8-6a0388e56d0e",
   "metadata": {},
   "source": [
    "**Objectives:**\n",
    "- List popular languages for Data Science\n",
    "- List Libraries for Data Science\n",
    "- Using Github to share and collaborate in projects\n"
   ]
  },
  {
   "cell_type": "markdown",
   "id": "537dc928-2db4-4d6c-9945-a25c3c26d901",
   "metadata": {},
   "source": [
    "Some of the popular languages that Data Scientists use are:\n",
    "1. Python\n",
    "2. SQL\n",
    "3. R\n",
    "4. Julia"
   ]
  },
  {
   "cell_type": "markdown",
   "id": "cba60722-da59-4ffc-b9d6-c807762d6025",
   "metadata": {},
   "source": [
    "Some of the commonly used libraries used by Data Scientists include:\n",
    "1. Numpy\n",
    "2. Pandas\n",
    "3. Scikit-learn\n",
    "4. ggplot\n",
    "5. SciPy"
   ]
  },
  {
   "cell_type": "markdown",
   "id": "aea5d277-b716-43bc-bb52-c9a0a16e3db4",
   "metadata": {},
   "source": [
    "| Data Science Tools |\n",
    "| :- |\n",
    "| Jupyter Lab |\n",
    "| RStudio |\n",
    "| Spyder |\n",
    "| Google Colab |"
   ]
  },
  {
   "cell_type": "markdown",
   "id": "6f7df73a-79e6-4866-9630-c833b92c6fb8",
   "metadata": {},
   "source": [
    "### Below are a few examples of evaluating arithmetic expressions in Python"
   ]
  },
  {
   "cell_type": "code",
   "execution_count": 2,
   "id": "5ab35039-9921-4133-be7e-9cbc72901d0b",
   "metadata": {},
   "outputs": [
    {
     "data": {
      "text/plain": [
       "17"
      ]
     },
     "execution_count": 2,
     "metadata": {},
     "output_type": "execute_result"
    }
   ],
   "source": [
    "# This a simple arithmetic expression to mutiply then add integers\n",
    "(3*4)+5"
   ]
  },
  {
   "cell_type": "code",
   "execution_count": 3,
   "id": "bb736c0e-f100-4da2-8975-34d0b381ac0d",
   "metadata": {},
   "outputs": [
    {
     "data": {
      "text/plain": [
       "3.3333333333333335"
      ]
     },
     "execution_count": 3,
     "metadata": {},
     "output_type": "execute_result"
    }
   ],
   "source": [
    "# This will convert 200 minutes to hours by diving by 60\n",
    "200/60"
   ]
  },
  {
   "cell_type": "markdown",
   "id": "c2f3a3c1-66e6-485d-9178-c49f9ed707ab",
   "metadata": {},
   "source": [
    "## Author\n",
    "Islam"
   ]
  },
  {
   "cell_type": "code",
   "execution_count": null,
   "id": "82109519-8973-481e-b258-acc1e062fdef",
   "metadata": {},
   "outputs": [],
   "source": []
  }
 ],
 "metadata": {
  "kernelspec": {
   "display_name": "Python 3 (ipykernel)",
   "language": "python",
   "name": "python3"
  },
  "language_info": {
   "codemirror_mode": {
    "name": "ipython",
    "version": 3
   },
   "file_extension": ".py",
   "mimetype": "text/x-python",
   "name": "python",
   "nbconvert_exporter": "python",
   "pygments_lexer": "ipython3",
   "version": "3.9.13"
  }
 },
 "nbformat": 4,
 "nbformat_minor": 5
}
